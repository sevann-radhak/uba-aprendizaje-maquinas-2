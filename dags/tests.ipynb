{
 "cells": [
  {
   "cell_type": "code",
   "execution_count": 17,
   "metadata": {},
   "outputs": [],
   "source": [
    "import os\n",
    "import requests\n",
    "\n",
    "class FileDownloader:\n",
    "    def __init__(self, base_dir='./data/'):\n",
    "        self.base_dir = base_dir\n",
    "        os.makedirs(self.base_dir, exist_ok=True)\n",
    "\n",
    "    def download_file(self, url, sub_dir='', filename=''):\n",
    "        if sub_dir:\n",
    "            os.makedirs(os.path.join(self.base_dir, sub_dir), exist_ok=True)\n",
    "\n",
    "        file_path = os.path.join(self.base_dir, sub_dir, filename)\n",
    "\n",
    "        response = requests.get(url, stream=True)\n",
    "        response.raise_for_status()\n",
    "        with open(file_path, 'wb') as file:\n",
    "            for chunk in response.iter_content(chunk_size=8192):\n",
    "                file.write(chunk)"
   ]
  },
  {
   "cell_type": "code",
   "execution_count": 19,
   "metadata": {},
   "outputs": [],
   "source": [
    "downloader = FileDownloader()\n",
    "\n",
    "url = \"https://raw.githubusercontent.com/sevann-radhak/python-weatherAUS/aprendizaje_maquinas/weatherAUS.csv\"\n",
    "downloader.download_file(url, sub_dir='raw', filename='weatherAUS.csv')"
   ]
  },
  {
   "cell_type": "markdown",
   "metadata": {},
   "source": []
  },
  {
   "cell_type": "code",
   "execution_count": 21,
   "metadata": {},
   "outputs": [],
   "source": [
    "import shutil\n",
    "\n",
    "def normalize_data():\n",
    "    src = 'data/raw/weatherAUS.csv'\n",
    "    dst = 'data/weatherAUS.csv'\n",
    "    shutil.copy(src, dst)\n",
    "    \n",
    "normalize_data()"
   ]
  }
 ],
 "metadata": {
  "kernelspec": {
   "display_name": "venv",
   "language": "python",
   "name": "python3"
  },
  "language_info": {
   "codemirror_mode": {
    "name": "ipython",
    "version": 3
   },
   "file_extension": ".py",
   "mimetype": "text/x-python",
   "name": "python",
   "nbconvert_exporter": "python",
   "pygments_lexer": "ipython3",
   "version": "3.12.3"
  }
 },
 "nbformat": 4,
 "nbformat_minor": 2
}

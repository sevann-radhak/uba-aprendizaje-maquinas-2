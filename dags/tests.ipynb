{
 "cells": [
  {
   "cell_type": "code",
   "execution_count": 17,
   "metadata": {},
   "outputs": [],
   "source": [
    "import os\n",
    "import requests\n",
    "\n",
    "class FileDownloader:\n",
    "    def __init__(self, base_dir='./data/'):\n",
    "        self.base_dir = base_dir\n",
    "        os.makedirs(self.base_dir, exist_ok=True)\n",
    "\n",
    "    def download_file(self, url, sub_dir='', filename=''):\n",
    "        if sub_dir:\n",
    "            os.makedirs(os.path.join(self.base_dir, sub_dir), exist_ok=True)\n",
    "\n",
    "        file_path = os.path.join(self.base_dir, sub_dir, filename)\n",
    "\n",
    "        response = requests.get(url, stream=True)\n",
    "        response.raise_for_status()\n",
    "        with open(file_path, 'wb') as file:\n",
    "            for chunk in response.iter_content(chunk_size=8192):\n",
    "                file.write(chunk)"
   ]
  },
  {
   "cell_type": "code",
   "execution_count": 19,
   "metadata": {},
   "outputs": [],
   "source": [
    "downloader = FileDownloader()\n",
    "\n",
    "url = \"https://raw.githubusercontent.com/sevann-radhak/python-weatherAUS/aprendizaje_maquinas/weatherAUS.csv\"\n",
    "downloader.download_file(url, sub_dir='raw', filename='weatherAUS.csv')"
   ]
  },
  {
   "cell_type": "markdown",
   "metadata": {},
   "source": []
  },
  {
   "cell_type": "code",
   "execution_count": 21,
   "metadata": {},
   "outputs": [],
   "source": [
    "import shutil\n",
    "\n",
    "def normalize_data():\n",
    "    src = 'data/raw/weatherAUS.csv'\n",
    "    dst = 'data/weatherAUS.csv'\n",
    "    shutil.copy(src, dst)\n",
    "    \n",
    "normalize_data()"
   ]
  },
  {
   "cell_type": "code",
   "execution_count": 24,
   "metadata": {},
   "outputs": [
    {
     "name": "stdout",
     "output_type": "stream",
     "text": [
      "Collecting pandas\n",
      "  Using cached pandas-2.2.2-cp312-cp312-win_amd64.whl.metadata (19 kB)\n",
      "Collecting numpy>=1.26.0 (from pandas)\n",
      "  Using cached numpy-1.26.4-cp312-cp312-win_amd64.whl.metadata (61 kB)\n",
      "Requirement already satisfied: python-dateutil>=2.8.2 in c:\\sevann\\uba\\amq2\\venv\\lib\\site-packages (from pandas) (2.9.0.post0)\n",
      "Collecting pytz>=2020.1 (from pandas)\n",
      "  Using cached pytz-2024.1-py2.py3-none-any.whl.metadata (22 kB)\n",
      "Collecting tzdata>=2022.7 (from pandas)\n",
      "  Using cached tzdata-2024.1-py2.py3-none-any.whl.metadata (1.4 kB)\n",
      "Requirement already satisfied: six>=1.5 in c:\\sevann\\uba\\amq2\\venv\\lib\\site-packages (from python-dateutil>=2.8.2->pandas) (1.16.0)\n",
      "Using cached pandas-2.2.2-cp312-cp312-win_amd64.whl (11.5 MB)\n",
      "Using cached numpy-1.26.4-cp312-cp312-win_amd64.whl (15.5 MB)\n",
      "Using cached pytz-2024.1-py2.py3-none-any.whl (505 kB)\n",
      "Using cached tzdata-2024.1-py2.py3-none-any.whl (345 kB)\n",
      "Installing collected packages: pytz, tzdata, numpy, pandas\n",
      "Successfully installed numpy-1.26.4 pandas-2.2.2 pytz-2024.1 tzdata-2024.1\n"
     ]
    }
   ],
   "source": [
    "!pip install pandas"
   ]
  },
  {
   "cell_type": "code",
   "execution_count": 30,
   "metadata": {},
   "outputs": [],
   "source": [
    "# from airflow import DAG\n",
    "# from airflow.operators.python_operator import PythonOperator\n",
    "from datetime import datetime\n",
    "import pandas as pd\n",
    "import shutil\n",
    "from io import StringIO\n",
    "import os\n",
    "from FileClient import FileClient\n",
    "\n",
    "def download_file(url, src_path):\n",
    "    try:\n",
    "        downloader = FileClient()\n",
    "        downloader.download_file(url, sub_dir=os.path.dirname(src_path), filename=os.path.basename(src_path))\n",
    "        print(\"Data downloaded.\")\n",
    "\n",
    "    except Exception as e:\n",
    "        print(f\"An error occurred while downloading and copying the file: {e}\")"
   ]
  },
  {
   "cell_type": "code",
   "execution_count": 36,
   "metadata": {},
   "outputs": [],
   "source": [
    "def clean_data(src_path, dst_path): \n",
    "    df = pd.read_csv(src_path)\n",
    "    original_count = len(df) \n",
    "    columns_to_check = df.columns.difference(['Date', 'Location'])\n",
    "    df = df[df[columns_to_check].notnull().any(axis=1)]\n",
    "    records_removed = original_count - len(df)\n",
    "    df.to_csv(dst_path, index=False)\n",
    "    print(f\"Data cleaned. {records_removed} records were removed.\")"
   ]
  },
  {
   "cell_type": "code",
   "execution_count": null,
   "metadata": {},
   "outputs": [],
   "source": [
    "  os.makedirs(os.path.dirname(dst_path), exist_ok=True)\n",
    "    shutil.copy(src_path, dst_path)\n",
    "    print(f\"Copied file to {dst_path}\")"
   ]
  },
  {
   "cell_type": "code",
   "execution_count": 37,
   "metadata": {},
   "outputs": [
    {
     "name": "stdout",
     "output_type": "stream",
     "text": [
      "Data cleaned. 182 records were removed.\n"
     ]
    }
   ],
   "source": [
    "clean_data('./data/raw/weatherAUS.csv', 'data/weatherAUS.csv')"
   ]
  },
  {
   "cell_type": "code",
   "execution_count": 41,
   "metadata": {},
   "outputs": [
    {
     "name": "stdout",
     "output_type": "stream",
     "text": [
      "Collecting python-dotenv\n",
      "  Using cached python_dotenv-1.0.1-py3-none-any.whl.metadata (23 kB)\n",
      "Using cached python_dotenv-1.0.1-py3-none-any.whl (19 kB)\n",
      "Installing collected packages: python-dotenv\n",
      "Successfully installed python-dotenv-1.0.1\n"
     ]
    }
   ],
   "source": [
    "!pip install python-dotenv"
   ]
  },
  {
   "cell_type": "code",
   "execution_count": 43,
   "metadata": {},
   "outputs": [],
   "source": [
    "from dotenv import load_dotenv\n",
    "import os"
   ]
  },
  {
   "cell_type": "code",
   "execution_count": 44,
   "metadata": {},
   "outputs": [
    {
     "name": "stdout",
     "output_type": "stream",
     "text": [
      "http://s3:9000\n"
     ]
    }
   ],
   "source": [
    "load_dotenv()\n",
    "\n",
    "# Now you can access the variables using os.getenv\n",
    "print(os.getenv('AWS_ENDPOINT_URL'))"
   ]
  },
  {
   "cell_type": "markdown",
   "metadata": {},
   "source": []
  }
 ],
 "metadata": {
  "kernelspec": {
   "display_name": "venv",
   "language": "python",
   "name": "python3"
  },
  "language_info": {
   "codemirror_mode": {
    "name": "ipython",
    "version": 3
   },
   "file_extension": ".py",
   "mimetype": "text/x-python",
   "name": "python",
   "nbconvert_exporter": "python",
   "pygments_lexer": "ipython3",
   "version": "3.12.3"
  }
 },
 "nbformat": 4,
 "nbformat_minor": 2
}
